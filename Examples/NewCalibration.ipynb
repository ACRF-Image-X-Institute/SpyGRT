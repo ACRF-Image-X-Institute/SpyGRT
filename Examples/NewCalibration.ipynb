{
 "cells": [
  {
   "cell_type": "markdown",
   "metadata": {},
   "source": [
    " # SpyGRT NewCalibration Example \n",
    "\n",
    " **Author: Youssef Ben Bouchta<br>\n",
    " Last Edited: 17/03/2022**"
   ]
  },
  {
   "cell_type": "markdown",
   "metadata": {},
   "source": [
    " Aligning two cameras with real-time stream."
   ]
  },
  {
   "cell_type": "code",
   "execution_count": 1,
   "metadata": {},
   "outputs": [
    {
     "name": "stdout",
     "output_type": "stream",
     "text": [
      "Jupyter environment detected. Enabling Open3D WebVisualizer.\n",
      "[Open3D INFO] WebRTC GUI backend enabled.\n",
      "[Open3D INFO] WebRTCWindowSystem: HTTP handshake server disabled.\n"
     ]
    }
   ],
   "source": [
    "# Example of how to initialise stream objects and basic stram control commands.\n",
    "# Author: Youssef Ben Bouchta\n",
    "# Last Edited: 29/03/2022\n",
    "\n",
    "#Imports\n",
    "import pyrealsense2 as rs2\n",
    "from spygrt.calibration import Calibrator\n",
    "from spygrt.stream import Camera"
   ]
  },
  {
   "cell_type": "markdown",
   "metadata": {},
   "source": [
    "## Initialisation of the calibrators object\n",
    "\n",
    "The first step to using SpyGRT to calibrate the depth cameras is to initialise a **Calibrator** object for each camera. \n",
    "\n",
    "To do so we must:\n",
    "\n",
    "\n",
    "1. Set up a real-sense context, which will allow us to access each of the RealSense devices that are currently connected. \n",
    "\n",
    "\n",
    "2. Initialise a **Camera** object for each RealSense device and a **Calibrator** object for each **Camera**. Note that **Calibrator** objects can also be initialised with a **Recording** type object as well. "
   ]
  },
  {
   "cell_type": "code",
   "execution_count": 3,
   "metadata": {},
   "outputs": [
    {
     "name": "stdout",
     "output_type": "stream",
     "text": [
      "no maximum distance setting for camera model: Intel RealSense D415\n",
      "no minimum distance setting for camera model: Intel RealSense D415\n",
      "no maximum distance setting for camera model: Intel RealSense D415\n",
      "no minimum distance setting for camera model: Intel RealSense D415\n"
     ]
    }
   ],
   "source": [
    "# Initialisation of calibrator objects using real-time streams. Look at how the \n",
    "# StreamAccess example for how to use a substitute a Recording object instead.\n",
    "\n",
    "## Set up a realsense context to access connected devices\n",
    "ctx = rs2.context()\n",
    "\n",
    "## Initialising container for calibrator object\n",
    "calibs = []\n",
    "\n",
    "## For every realsense device connected, initialise a calibrator object\n",
    "for dev in ctx.query_devices():\n",
    "    calibs.append(Calibrator(Camera(dev)))\n"
   ]
  },
  {
   "cell_type": "markdown",
   "metadata": {},
   "source": [
    "## Aligning the cameras to each other. \n",
    "\n",
    "The first step to aligning the camera system to the frame of reference defined by the calibration board is to align the cameras to one another. \n",
    "\n",
    "This is done by calling `align_cameras()` method of one of a source **Calibrator** object and giving the target **Calibrator** object as input. This will change the frame of reference of the source **Calibrator** to that of the target **Calibrator**\n",
    "\n",
    "In this example: \n",
    "\n",
    "1. `calibs[0]` is the 'source' **Calibrator**\n",
    "2. `calibs[1]` is the 'target' **Calibrator**. "
   ]
  },
  {
   "cell_type": "code",
   "execution_count": 4,
   "metadata": {},
   "outputs": [],
   "source": [
    "# Using the calibrator objects to obtain the calibration to the board frame of reference.\n",
    "\n",
    "## Align the frame of reference of the two cameras.\n",
    "calibs[0].align_cameras(calibs[1])"
   ]
  },
  {
   "cell_type": "markdown",
   "metadata": {},
   "source": [
    "## Aligning the cameras to the board\n",
    "\n",
    "Once the cameras are calibrated to one another, we align them to an external frame of reference defined by the calibration board. \n",
    "\n",
    "\n",
    "This is done by calling the `align_to_board()` method of one of the **Calibrator** object. This will change the frame of reference of the **Calibrator** oject to the one defined by the board. \n",
    "\n",
    "In the following code, we give the **Calibrator** object associated with the second cameras as an input argument. This applies the same transformation to the inputted **Calibrator**, thereby transforming its frame of reference to that of the board **IF** it the two **Calibrator** objects are already aligned. \n",
    "\n",
    "This is best practice as it minimises the calibration errors, but it is not necessary. We could instead call the `align_to_board()` method of each **Calibrator** object with input arguments. \n",
    "\n",
    "\n",
    "NB: This resulting frame of reference will match IEC coordinates if the board is set so that the middle is at isocenter, the LR laser is aligned to the rows and the SI laser is aligned with the columns. "
   ]
  },
  {
   "cell_type": "code",
   "execution_count": 5,
   "metadata": {},
   "outputs": [],
   "source": [
    "## Align the camera frame of reference to the board frame of reference.\n",
    "calibs[1].align_to_board(cal2 = calibs[0])"
   ]
  },
  {
   "cell_type": "markdown",
   "metadata": {},
   "source": [
    "## Saving the calibration to a .txt file.\n",
    "\n",
    "Once the calibration is over, the result of the calibration is saved in the **T** parameter of each calibrator. \n",
    "\n",
    "We accomplish this by calling the `.write_cal()` method of each **Calibrator**, which writes the 4x4 calibration matrix into a file named *XXX_cal.txt* where XXX is the camera's serial number.\n",
    "\n",
    "NB: The **T** matrix represents the transformation matrix from the camera's frame of reference to the lab's. It is the inverse of the extrinsic matrix which represents the transformation matrix from the lab's frame of reference to the camera's. "
   ]
  },
  {
   "cell_type": "code",
   "execution_count": 6,
   "metadata": {},
   "outputs": [
    {
     "name": "stdout",
     "output_type": "stream",
     "text": [
      "[[-0.904530 0.274793 -0.347389 0.290613],\n",
      " [0.0651338 0.863837 0.513721 -0.295628],\n",
      " [0.438119 0.438908 -0.793585 0.430724],\n",
      " [0.0 0.0 0.0 1.0]]\n",
      "Tensor[shape={4, 4}, stride={4, 1}, Float32, CPU:0, 0x23626d43470]\n",
      "[[-0.950654 -0.136896 0.282094 -0.19515],\n",
      " [0.0241335 0.865971 0.501571 -0.277487],\n",
      " [-0.312626 0.483131 -0.819091 0.448065],\n",
      " [0.0 0.0 0.0 1.0]]\n",
      "Tensor[shape={4, 4}, stride={4, 1}, Float32, CPU:0, 0x23626d43560]\n"
     ]
    }
   ],
   "source": [
    "# Outputs calibration to a text file.\n",
    "for cal in calibs:\n",
    "\tcal.write_cal()\n",
    "    \n",
    "print(calibs[0].T)\n",
    "print(calibs[1].T)"
   ]
  }
 ],
 "metadata": {
  "kernelspec": {
   "display_name": "Python 3",
   "language": "python",
   "name": "python3"
  },
  "language_info": {
   "codemirror_mode": {
    "name": "ipython",
    "version": 3
   },
   "file_extension": ".py",
   "mimetype": "text/x-python",
   "name": "python",
   "nbconvert_exporter": "python",
   "pygments_lexer": "ipython3",
   "version": "3.7.6"
  }
 },
 "nbformat": 4,
 "nbformat_minor": 4
}
